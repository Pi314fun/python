{
 "cells": [
  {
   "cell_type": "code",
   "execution_count": 2,
   "metadata": {},
   "outputs": [
    {
     "name": "stdout",
     "output_type": "stream",
     "text": [
      "Retrieving http://py4e-data.dr-chuck.net/comments_1641618.xml\n",
      "Retrieved 4218 characters\n",
      "Count: 50\n",
      "Sum: 2619\n"
     ]
    }
   ],
   "source": [
    "import urllib.request as ur       #importing urllib as ur\n",
    "import xml.etree.ElementTree as et#importing xml.etree.element tree as et\n",
    "\n",
    "url = input('Enter location: ')   #importing the url http://py4e-data.dr-chuck.net/comments_1641618.xml\n",
    "\n",
    "total = 0                         #setting up variables\n",
    "sum = 0\n",
    "\n",
    "print('Retrieving', url)          #output of url\n",
    "xml = ur.urlopen(url).read()      #opens and reads url\n",
    "print('Retrieved', len(xml), 'characters') #indicates the num of char recieved\n",
    "\n",
    "tree = et.fromstring(xml)         #creates etree\n",
    "counts = tree.findall('.//count') #searching etree for .//(sub element) named count\n",
    "for count in counts:              #parsing through the string returning the text input as a int\n",
    "    sum = sum + int(count.text)   #keeping running count of int\n",
    "    total = total + 1             #running total of entries into sum\n",
    "\n",
    "print('Count:', total)            #prints total records obtained\n",
    "print('Sum:', sum)                #prints total taken from findall\n"
   ]
  }
 ],
 "metadata": {
  "kernelspec": {
   "display_name": "Python 3.9.12 ('base')",
   "language": "python",
   "name": "python3"
  },
  "language_info": {
   "codemirror_mode": {
    "name": "ipython",
    "version": 3
   },
   "file_extension": ".py",
   "mimetype": "text/x-python",
   "name": "python",
   "nbconvert_exporter": "python",
   "pygments_lexer": "ipython3",
   "version": "3.9.12"
  },
  "orig_nbformat": 4,
  "vscode": {
   "interpreter": {
    "hash": "420855c9b54a8c6b0fb2f6b66f062ba8d45d40645ae4ca16c4830829a57109cd"
   }
  }
 },
 "nbformat": 4,
 "nbformat_minor": 2
}
